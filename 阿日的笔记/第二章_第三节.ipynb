{
 "metadata": {
  "language_info": {
   "codemirror_mode": {
    "name": "ipython",
    "version": 3
   },
   "file_extension": ".py",
   "mimetype": "text/x-python",
   "name": "python",
   "nbconvert_exporter": "python",
   "pygments_lexer": "ipython3",
   "version": "3.7.4-final"
  },
  "orig_nbformat": 2,
  "kernelspec": {
   "name": "python3",
   "display_name": "Python 3"
  }
 },
 "nbformat": 4,
 "nbformat_minor": 2,
 "cells": [
  {
   "cell_type": "code",
   "execution_count": 1,
   "metadata": {
    "tags": []
   },
   "outputs": [
    {
     "output_type": "stream",
     "name": "stderr",
     "text": "Illegal line #1\n\t\"{\\rtf1\\ansi\\ansicpg936\\cocoartf1671\\cocoasubrtf200\n\"\n\tin file \"/Users/ousei/.matplotlib/matplotlibrc\"\nIllegal line #2\n\t\"{\\fonttbl\\f0\\fnil\\fcharset0 Menlo-Regular;}\n\"\n\tin file \"/Users/ousei/.matplotlib/matplotlibrc\"\nIllegal line #3\n\t\"{\\colortbl;\\red255\\green255\\blue255;\\red0\\green0\\blue0;\\red255\\green255\\blue255;}\n\"\n\tin file \"/Users/ousei/.matplotlib/matplotlibrc\"\nIllegal line #4\n\t\"{\\*\\expandedcolortbl;;\\cssrgb\\c0\\c0\\c0;\\cssrgb\\c100000\\c100000\\c100000;}\n\"\n\tin file \"/Users/ousei/.matplotlib/matplotlibrc\"\nIllegal line #5\n\t\"\\paperw11900\\paperh16840\\margl1440\\margr1440\\vieww10800\\viewh8400\\viewkind0\n\"\n\tin file \"/Users/ousei/.matplotlib/matplotlibrc\"\nIllegal line #6\n\t\"\\deftab720\n\"\n\tin file \"/Users/ousei/.matplotlib/matplotlibrc\"\nIllegal line #7\n\t\"\\pard\\pardeftab720\\sl260\\partightenfactor0\n\"\n\tin file \"/Users/ousei/.matplotlib/matplotlibrc\"\nIllegal line #9\n\t\"\\f0\\fs22 \\cf2 \\cb3 \\expnd0\\expndtw0\\kerning0\n\"\n\tin file \"/Users/ousei/.matplotlib/matplotlibrc\"\n\nBad key \"\\outl0\\strokewidth0 \\strokec2 backend\" on line 10 in\n/Users/ousei/.matplotlib/matplotlibrc.\nYou probably need to get an updated matplotlibrc file from\nhttp://github.com/matplotlib/matplotlib/blob/master/matplotlibrc.template\nor from the matplotlib source distribution\n"
    }
   ],
   "source": [
    "import numpy as np\n",
    "import pandas as pd"
   ]
  },
  {
   "cell_type": "code",
   "execution_count": 2,
   "metadata": {},
   "outputs": [],
   "source": [
    "text = pd.read_csv('result.csv')"
   ]
  },
  {
   "cell_type": "code",
   "execution_count": 4,
   "metadata": {},
   "outputs": [
    {
     "output_type": "execute_result",
     "data": {
      "text/plain": "   Unnamed: 0  PassengerId  Survived  Pclass  \\\n0           0            1         0       3   \n1           1            2         1       1   \n2           2            3         1       3   \n3           3            4         1       1   \n4           4            5         0       3   \n\n                                                Name     Sex   Age  SibSp  \\\n0                            Braund, Mr. Owen Harris    male  22.0    1.0   \n1  Cumings, Mrs. John Bradley (Florence Briggs Th...  female  38.0    1.0   \n2                             Heikkinen, Miss. Laina  female  26.0    0.0   \n3       Futrelle, Mrs. Jacques Heath (Lily May Peel)  female  35.0    1.0   \n4                           Allen, Mr. William Henry    male  35.0    0.0   \n\n   Parch            Ticket     Fare Cabin Embarked  \n0    0.0         A/5 21171   7.2500   NaN        S  \n1    0.0          PC 17599  71.2833   C85        C  \n2    0.0  STON/O2. 3101282   7.9250   NaN        S  \n3    0.0            113803  53.1000  C123        S  \n4    0.0            373450   8.0500   NaN        S  ",
      "text/html": "<div>\n<style scoped>\n    .dataframe tbody tr th:only-of-type {\n        vertical-align: middle;\n    }\n\n    .dataframe tbody tr th {\n        vertical-align: top;\n    }\n\n    .dataframe thead th {\n        text-align: right;\n    }\n</style>\n<table border=\"1\" class=\"dataframe\">\n  <thead>\n    <tr style=\"text-align: right;\">\n      <th></th>\n      <th>Unnamed: 0</th>\n      <th>PassengerId</th>\n      <th>Survived</th>\n      <th>Pclass</th>\n      <th>Name</th>\n      <th>Sex</th>\n      <th>Age</th>\n      <th>SibSp</th>\n      <th>Parch</th>\n      <th>Ticket</th>\n      <th>Fare</th>\n      <th>Cabin</th>\n      <th>Embarked</th>\n    </tr>\n  </thead>\n  <tbody>\n    <tr>\n      <td>0</td>\n      <td>0</td>\n      <td>1</td>\n      <td>0</td>\n      <td>3</td>\n      <td>Braund, Mr. Owen Harris</td>\n      <td>male</td>\n      <td>22.0</td>\n      <td>1.0</td>\n      <td>0.0</td>\n      <td>A/5 21171</td>\n      <td>7.2500</td>\n      <td>NaN</td>\n      <td>S</td>\n    </tr>\n    <tr>\n      <td>1</td>\n      <td>1</td>\n      <td>2</td>\n      <td>1</td>\n      <td>1</td>\n      <td>Cumings, Mrs. John Bradley (Florence Briggs Th...</td>\n      <td>female</td>\n      <td>38.0</td>\n      <td>1.0</td>\n      <td>0.0</td>\n      <td>PC 17599</td>\n      <td>71.2833</td>\n      <td>C85</td>\n      <td>C</td>\n    </tr>\n    <tr>\n      <td>2</td>\n      <td>2</td>\n      <td>3</td>\n      <td>1</td>\n      <td>3</td>\n      <td>Heikkinen, Miss. Laina</td>\n      <td>female</td>\n      <td>26.0</td>\n      <td>0.0</td>\n      <td>0.0</td>\n      <td>STON/O2. 3101282</td>\n      <td>7.9250</td>\n      <td>NaN</td>\n      <td>S</td>\n    </tr>\n    <tr>\n      <td>3</td>\n      <td>3</td>\n      <td>4</td>\n      <td>1</td>\n      <td>1</td>\n      <td>Futrelle, Mrs. Jacques Heath (Lily May Peel)</td>\n      <td>female</td>\n      <td>35.0</td>\n      <td>1.0</td>\n      <td>0.0</td>\n      <td>113803</td>\n      <td>53.1000</td>\n      <td>C123</td>\n      <td>S</td>\n    </tr>\n    <tr>\n      <td>4</td>\n      <td>4</td>\n      <td>5</td>\n      <td>0</td>\n      <td>3</td>\n      <td>Allen, Mr. William Henry</td>\n      <td>male</td>\n      <td>35.0</td>\n      <td>0.0</td>\n      <td>0.0</td>\n      <td>373450</td>\n      <td>8.0500</td>\n      <td>NaN</td>\n      <td>S</td>\n    </tr>\n  </tbody>\n</table>\n</div>"
     },
     "metadata": {},
     "execution_count": 4
    }
   ],
   "source": [
    "text.head()"
   ]
  },
  {
   "cell_type": "markdown",
   "metadata": {},
   "source": [
    "## Groupby\n",
    "\n",
    "经常需要将数据根据某个（多个）字段划分为不同的群体（group）进行分析\n",
    "\n",
    "作为炙手可热的Python数据分析包，Pandas具有很多好用的数据类型，利如Series、DataFrame、Categorical。在数据分析过程中，描述数据是对具有某些特征的列进行的，分析结果也需要对具体的组进行对比分析，GroupBy就是能满足这种需求的一种分组机制。GroupBy的应用包括三个流程：\n",
    "\n",
    "（split - apply - combine）\n",
    "Splitting: 将数据按需求分组；\n",
    "Applying: 对每个小组进行函数操作；\n",
    "Combining: 合并结果。\n",
    "\n"
   ]
  },
  {
   "cell_type": "code",
   "execution_count": 6,
   "metadata": {},
   "outputs": [
    {
     "output_type": "execute_result",
     "data": {
      "text/plain": "Sex\nfemale    44.479818\nmale      25.523893\nName: Fare, dtype: float64"
     },
     "metadata": {},
     "execution_count": 6
    }
   ],
   "source": [
    "#使用groupby计算泰坦尼克号男性与女性的平均票价（Fare）\n",
    "df = text['Fare'].groupby(text['Sex'])\n",
    "means = df.mean()\n",
    "means"
   ]
  },
  {
   "cell_type": "code",
   "execution_count": 9,
   "metadata": {},
   "outputs": [
    {
     "output_type": "execute_result",
     "data": {
      "text/plain": "Sex\nfemale    233\nmale      109\nName: Survived, dtype: int64"
     },
     "metadata": {},
     "execution_count": 9
    }
   ],
   "source": [
    "#统计泰坦尼克号中男女的存活人数 (Sex)\n",
    "survived_sex = text['Survived'].groupby(text['Sex']).sum()\n",
    "survived_sex.head()"
   ]
  },
  {
   "cell_type": "code",
   "execution_count": 11,
   "metadata": {},
   "outputs": [
    {
     "output_type": "execute_result",
     "data": {
      "text/plain": "Pclass\n1    136\n2     87\n3    119\nName: Survived, dtype: int64"
     },
     "metadata": {},
     "execution_count": 11
    }
   ],
   "source": [
    "#计算客舱不同等级的存活人数 (Pclass)\n",
    "survived_pclass = text['Survived'].groupby(text['Pclass']).sum()\n",
    "survived_pclass.head()"
   ]
  },
  {
   "cell_type": "markdown",
   "metadata": {},
   "source": [
    "## 结论\n",
    "\n",
    "女人比男人活下来的概率要大,一等舱在全部舱位占比最小,但是活下来的人数缺最多。\n"
   ]
  },
  {
   "cell_type": "code",
   "execution_count": 13,
   "metadata": {},
   "outputs": [
    {
     "output_type": "execute_result",
     "data": {
      "text/plain": "Pclass  Age  \n1       0.92     151.5500\n        2.00     151.5500\n        4.00      81.8583\n        11.00    120.0000\n        14.00    120.0000\nName: Fare, dtype: float64"
     },
     "metadata": {},
     "execution_count": 13
    }
   ],
   "source": [
    "#统计在不同等级的票中的不同年龄的船票花费的平均值\n",
    "text.groupby(['Pclass','Age'])['Fare'].mean().head()"
   ]
  },
  {
   "cell_type": "code",
   "execution_count": 14,
   "metadata": {},
   "outputs": [
    {
     "output_type": "execute_result",
     "data": {
      "text/plain": "             Fare  Survived\nSex                        \nfemale  44.479818       233\nmale    25.523893       109",
      "text/html": "<div>\n<style scoped>\n    .dataframe tbody tr th:only-of-type {\n        vertical-align: middle;\n    }\n\n    .dataframe tbody tr th {\n        vertical-align: top;\n    }\n\n    .dataframe thead th {\n        text-align: right;\n    }\n</style>\n<table border=\"1\" class=\"dataframe\">\n  <thead>\n    <tr style=\"text-align: right;\">\n      <th></th>\n      <th>Fare</th>\n      <th>Survived</th>\n    </tr>\n    <tr>\n      <th>Sex</th>\n      <th></th>\n      <th></th>\n    </tr>\n  </thead>\n  <tbody>\n    <tr>\n      <td>female</td>\n      <td>44.479818</td>\n      <td>233</td>\n    </tr>\n    <tr>\n      <td>male</td>\n      <td>25.523893</td>\n      <td>109</td>\n    </tr>\n  </tbody>\n</table>\n</div>"
     },
     "metadata": {},
     "execution_count": 14
    }
   ],
   "source": [
    "#将任务二和任务三的数据合并，并保存到sex_fare_survived.csv\n",
    "result = pd.merge(means,survived_sex,on='Sex')\n",
    "result"
   ]
  },
  {
   "cell_type": "code",
   "execution_count": 15,
   "metadata": {},
   "outputs": [],
   "source": [
    "result.to_csv('sex_fare_survived.csv')"
   ]
  },
  {
   "cell_type": "code",
   "execution_count": null,
   "metadata": {},
   "outputs": [],
   "source": []
  }
 ]
}